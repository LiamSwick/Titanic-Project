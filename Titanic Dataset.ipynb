{
 "cells": [
  {
   "cell_type": "markdown",
   "id": "581b4066",
   "metadata": {},
   "source": [
    "# Titanic Dataset Project\n",
    "\n",
    "The goal of this project is to take passenger data from the titanic logs and create a classification model to predict survivors. We are going to explore several models and compare them to choose the best one for predicting survival."
   ]
  },
  {
   "cell_type": "code",
   "execution_count": 1,
   "id": "f5ed3352",
   "metadata": {},
   "outputs": [],
   "source": [
    "import numpy as np \n",
    "import pandas as pd\n",
    "import matplotlib.pyplot as plt\n",
    "import seaborn as sns\n",
    "from scipy import stats\n",
    "from sklearn.preprocessing import StandardScaler\n",
    "from sklearn.metrics import accuracy_score, classification_report, confusion_matrix, roc_curve, auc, f1_score\n",
    "from sklearn.model_selection import train_test_split, cross_val_score, GridSearchCV\n",
    "from sklearn.preprocessing import LabelEncoder\n",
    "from sklearn.tree import DecisionTreeClassifier\n",
    "from sklearn.ensemble import RandomForestClassifier\n",
    "from sklearn.naive_bayes import BernoulliNB\n",
    "from xgboost import XGBClassifier\n",
    "from sklearn.svm import SVC\n",
    "from sklearn.linear_model import LogisticRegression\n",
    "from sklearn.neighbors import KNeighborsClassifier"
   ]
  },
  {
   "cell_type": "markdown",
   "id": "8827a7b3",
   "metadata": {},
   "source": [
    "Firsts we are going to import the libraries and tools that we are going to use to clean, visualize, and model the data."
   ]
  },
  {
   "cell_type": "code",
   "execution_count": 2,
   "id": "4b751281",
   "metadata": {
    "scrolled": true
   },
   "outputs": [
    {
     "name": "stdout",
     "output_type": "stream",
     "text": [
      "(887, 8)\n"
     ]
    },
    {
     "data": {
      "text/html": [
       "<div>\n",
       "<style scoped>\n",
       "    .dataframe tbody tr th:only-of-type {\n",
       "        vertical-align: middle;\n",
       "    }\n",
       "\n",
       "    .dataframe tbody tr th {\n",
       "        vertical-align: top;\n",
       "    }\n",
       "\n",
       "    .dataframe thead th {\n",
       "        text-align: right;\n",
       "    }\n",
       "</style>\n",
       "<table border=\"1\" class=\"dataframe\">\n",
       "  <thead>\n",
       "    <tr style=\"text-align: right;\">\n",
       "      <th></th>\n",
       "      <th>Survived</th>\n",
       "      <th>Pclass</th>\n",
       "      <th>Name</th>\n",
       "      <th>Sex</th>\n",
       "      <th>Age</th>\n",
       "      <th>Siblings/Spouses Aboard</th>\n",
       "      <th>Parents/Children Aboard</th>\n",
       "      <th>Fare</th>\n",
       "    </tr>\n",
       "  </thead>\n",
       "  <tbody>\n",
       "    <tr>\n",
       "      <th>0</th>\n",
       "      <td>0</td>\n",
       "      <td>3</td>\n",
       "      <td>Mr. Owen Harris Braund</td>\n",
       "      <td>male</td>\n",
       "      <td>22.0</td>\n",
       "      <td>1</td>\n",
       "      <td>0</td>\n",
       "      <td>7.2500</td>\n",
       "    </tr>\n",
       "    <tr>\n",
       "      <th>1</th>\n",
       "      <td>1</td>\n",
       "      <td>1</td>\n",
       "      <td>Mrs. John Bradley (Florence Briggs Thayer) Cum...</td>\n",
       "      <td>female</td>\n",
       "      <td>38.0</td>\n",
       "      <td>1</td>\n",
       "      <td>0</td>\n",
       "      <td>71.2833</td>\n",
       "    </tr>\n",
       "    <tr>\n",
       "      <th>2</th>\n",
       "      <td>1</td>\n",
       "      <td>3</td>\n",
       "      <td>Miss. Laina Heikkinen</td>\n",
       "      <td>female</td>\n",
       "      <td>26.0</td>\n",
       "      <td>0</td>\n",
       "      <td>0</td>\n",
       "      <td>7.9250</td>\n",
       "    </tr>\n",
       "    <tr>\n",
       "      <th>3</th>\n",
       "      <td>1</td>\n",
       "      <td>1</td>\n",
       "      <td>Mrs. Jacques Heath (Lily May Peel) Futrelle</td>\n",
       "      <td>female</td>\n",
       "      <td>35.0</td>\n",
       "      <td>1</td>\n",
       "      <td>0</td>\n",
       "      <td>53.1000</td>\n",
       "    </tr>\n",
       "    <tr>\n",
       "      <th>4</th>\n",
       "      <td>0</td>\n",
       "      <td>3</td>\n",
       "      <td>Mr. William Henry Allen</td>\n",
       "      <td>male</td>\n",
       "      <td>35.0</td>\n",
       "      <td>0</td>\n",
       "      <td>0</td>\n",
       "      <td>8.0500</td>\n",
       "    </tr>\n",
       "    <tr>\n",
       "      <th>5</th>\n",
       "      <td>0</td>\n",
       "      <td>3</td>\n",
       "      <td>Mr. James Moran</td>\n",
       "      <td>male</td>\n",
       "      <td>27.0</td>\n",
       "      <td>0</td>\n",
       "      <td>0</td>\n",
       "      <td>8.4583</td>\n",
       "    </tr>\n",
       "    <tr>\n",
       "      <th>6</th>\n",
       "      <td>0</td>\n",
       "      <td>1</td>\n",
       "      <td>Mr. Timothy J McCarthy</td>\n",
       "      <td>male</td>\n",
       "      <td>54.0</td>\n",
       "      <td>0</td>\n",
       "      <td>0</td>\n",
       "      <td>51.8625</td>\n",
       "    </tr>\n",
       "    <tr>\n",
       "      <th>7</th>\n",
       "      <td>0</td>\n",
       "      <td>3</td>\n",
       "      <td>Master. Gosta Leonard Palsson</td>\n",
       "      <td>male</td>\n",
       "      <td>2.0</td>\n",
       "      <td>3</td>\n",
       "      <td>1</td>\n",
       "      <td>21.0750</td>\n",
       "    </tr>\n",
       "    <tr>\n",
       "      <th>8</th>\n",
       "      <td>1</td>\n",
       "      <td>3</td>\n",
       "      <td>Mrs. Oscar W (Elisabeth Vilhelmina Berg) Johnson</td>\n",
       "      <td>female</td>\n",
       "      <td>27.0</td>\n",
       "      <td>0</td>\n",
       "      <td>2</td>\n",
       "      <td>11.1333</td>\n",
       "    </tr>\n",
       "    <tr>\n",
       "      <th>9</th>\n",
       "      <td>1</td>\n",
       "      <td>2</td>\n",
       "      <td>Mrs. Nicholas (Adele Achem) Nasser</td>\n",
       "      <td>female</td>\n",
       "      <td>14.0</td>\n",
       "      <td>1</td>\n",
       "      <td>0</td>\n",
       "      <td>30.0708</td>\n",
       "    </tr>\n",
       "  </tbody>\n",
       "</table>\n",
       "</div>"
      ],
      "text/plain": [
       "   Survived  Pclass                                               Name  \\\n",
       "0         0       3                             Mr. Owen Harris Braund   \n",
       "1         1       1  Mrs. John Bradley (Florence Briggs Thayer) Cum...   \n",
       "2         1       3                              Miss. Laina Heikkinen   \n",
       "3         1       1        Mrs. Jacques Heath (Lily May Peel) Futrelle   \n",
       "4         0       3                            Mr. William Henry Allen   \n",
       "5         0       3                                    Mr. James Moran   \n",
       "6         0       1                             Mr. Timothy J McCarthy   \n",
       "7         0       3                      Master. Gosta Leonard Palsson   \n",
       "8         1       3   Mrs. Oscar W (Elisabeth Vilhelmina Berg) Johnson   \n",
       "9         1       2                 Mrs. Nicholas (Adele Achem) Nasser   \n",
       "\n",
       "      Sex   Age  Siblings/Spouses Aboard  Parents/Children Aboard     Fare  \n",
       "0    male  22.0                        1                        0   7.2500  \n",
       "1  female  38.0                        1                        0  71.2833  \n",
       "2  female  26.0                        0                        0   7.9250  \n",
       "3  female  35.0                        1                        0  53.1000  \n",
       "4    male  35.0                        0                        0   8.0500  \n",
       "5    male  27.0                        0                        0   8.4583  \n",
       "6    male  54.0                        0                        0  51.8625  \n",
       "7    male   2.0                        3                        1  21.0750  \n",
       "8  female  27.0                        0                        2  11.1333  \n",
       "9  female  14.0                        1                        0  30.0708  "
      ]
     },
     "execution_count": 2,
     "metadata": {},
     "output_type": "execute_result"
    }
   ],
   "source": [
    "url = 'https://web.stanford.edu/class/archive/cs/cs109/cs109.1166/stuff/titanic.csv'\n",
    "titanic = pd.read_csv(url)\n",
    "print(np.shape(titanic))\n",
    "titanic.head(10)"
   ]
  },
  {
   "cell_type": "markdown",
   "id": "f2ded958",
   "metadata": {},
   "source": [
    "Now we import the data and inspect it to see what the rows and columns look like. The headers give good descriptions of what is included in the dataset and from the first ten rows the data look clean, but lets make sure it is before we move forward."
   ]
  },
  {
   "cell_type": "code",
   "execution_count": 3,
   "id": "c0b95c77",
   "metadata": {},
   "outputs": [
    {
     "name": "stdout",
     "output_type": "stream",
     "text": [
      "<class 'pandas.core.frame.DataFrame'>\n",
      "RangeIndex: 887 entries, 0 to 886\n",
      "Data columns (total 8 columns):\n",
      " #   Column                   Non-Null Count  Dtype  \n",
      "---  ------                   --------------  -----  \n",
      " 0   Survived                 887 non-null    int64  \n",
      " 1   Pclass                   887 non-null    int64  \n",
      " 2   Name                     887 non-null    object \n",
      " 3   Sex                      887 non-null    object \n",
      " 4   Age                      887 non-null    float64\n",
      " 5   Siblings/Spouses Aboard  887 non-null    int64  \n",
      " 6   Parents/Children Aboard  887 non-null    int64  \n",
      " 7   Fare                     887 non-null    float64\n",
      "dtypes: float64(2), int64(4), object(2)\n",
      "memory usage: 55.6+ KB\n"
     ]
    },
    {
     "data": {
      "text/html": [
       "<div>\n",
       "<style scoped>\n",
       "    .dataframe tbody tr th:only-of-type {\n",
       "        vertical-align: middle;\n",
       "    }\n",
       "\n",
       "    .dataframe tbody tr th {\n",
       "        vertical-align: top;\n",
       "    }\n",
       "\n",
       "    .dataframe thead th {\n",
       "        text-align: right;\n",
       "    }\n",
       "</style>\n",
       "<table border=\"1\" class=\"dataframe\">\n",
       "  <thead>\n",
       "    <tr style=\"text-align: right;\">\n",
       "      <th></th>\n",
       "      <th>Survived</th>\n",
       "      <th>Pclass</th>\n",
       "      <th>Age</th>\n",
       "      <th>Siblings/Spouses Aboard</th>\n",
       "      <th>Parents/Children Aboard</th>\n",
       "      <th>Fare</th>\n",
       "    </tr>\n",
       "  </thead>\n",
       "  <tbody>\n",
       "    <tr>\n",
       "      <th>count</th>\n",
       "      <td>887.000000</td>\n",
       "      <td>887.000000</td>\n",
       "      <td>887.000000</td>\n",
       "      <td>887.000000</td>\n",
       "      <td>887.000000</td>\n",
       "      <td>887.00000</td>\n",
       "    </tr>\n",
       "    <tr>\n",
       "      <th>mean</th>\n",
       "      <td>0.385569</td>\n",
       "      <td>2.305524</td>\n",
       "      <td>29.471443</td>\n",
       "      <td>0.525366</td>\n",
       "      <td>0.383315</td>\n",
       "      <td>32.30542</td>\n",
       "    </tr>\n",
       "    <tr>\n",
       "      <th>std</th>\n",
       "      <td>0.487004</td>\n",
       "      <td>0.836662</td>\n",
       "      <td>14.121908</td>\n",
       "      <td>1.104669</td>\n",
       "      <td>0.807466</td>\n",
       "      <td>49.78204</td>\n",
       "    </tr>\n",
       "    <tr>\n",
       "      <th>min</th>\n",
       "      <td>0.000000</td>\n",
       "      <td>1.000000</td>\n",
       "      <td>0.420000</td>\n",
       "      <td>0.000000</td>\n",
       "      <td>0.000000</td>\n",
       "      <td>0.00000</td>\n",
       "    </tr>\n",
       "    <tr>\n",
       "      <th>25%</th>\n",
       "      <td>0.000000</td>\n",
       "      <td>2.000000</td>\n",
       "      <td>20.250000</td>\n",
       "      <td>0.000000</td>\n",
       "      <td>0.000000</td>\n",
       "      <td>7.92500</td>\n",
       "    </tr>\n",
       "    <tr>\n",
       "      <th>50%</th>\n",
       "      <td>0.000000</td>\n",
       "      <td>3.000000</td>\n",
       "      <td>28.000000</td>\n",
       "      <td>0.000000</td>\n",
       "      <td>0.000000</td>\n",
       "      <td>14.45420</td>\n",
       "    </tr>\n",
       "    <tr>\n",
       "      <th>75%</th>\n",
       "      <td>1.000000</td>\n",
       "      <td>3.000000</td>\n",
       "      <td>38.000000</td>\n",
       "      <td>1.000000</td>\n",
       "      <td>0.000000</td>\n",
       "      <td>31.13750</td>\n",
       "    </tr>\n",
       "    <tr>\n",
       "      <th>max</th>\n",
       "      <td>1.000000</td>\n",
       "      <td>3.000000</td>\n",
       "      <td>80.000000</td>\n",
       "      <td>8.000000</td>\n",
       "      <td>6.000000</td>\n",
       "      <td>512.32920</td>\n",
       "    </tr>\n",
       "  </tbody>\n",
       "</table>\n",
       "</div>"
      ],
      "text/plain": [
       "         Survived      Pclass         Age  Siblings/Spouses Aboard  \\\n",
       "count  887.000000  887.000000  887.000000               887.000000   \n",
       "mean     0.385569    2.305524   29.471443                 0.525366   \n",
       "std      0.487004    0.836662   14.121908                 1.104669   \n",
       "min      0.000000    1.000000    0.420000                 0.000000   \n",
       "25%      0.000000    2.000000   20.250000                 0.000000   \n",
       "50%      0.000000    3.000000   28.000000                 0.000000   \n",
       "75%      1.000000    3.000000   38.000000                 1.000000   \n",
       "max      1.000000    3.000000   80.000000                 8.000000   \n",
       "\n",
       "       Parents/Children Aboard       Fare  \n",
       "count               887.000000  887.00000  \n",
       "mean                  0.383315   32.30542  \n",
       "std                   0.807466   49.78204  \n",
       "min                   0.000000    0.00000  \n",
       "25%                   0.000000    7.92500  \n",
       "50%                   0.000000   14.45420  \n",
       "75%                   0.000000   31.13750  \n",
       "max                   6.000000  512.32920  "
      ]
     },
     "execution_count": 3,
     "metadata": {},
     "output_type": "execute_result"
    }
   ],
   "source": [
    "titanic.info()\n",
    "titanic.describe()"
   ]
  },
  {
   "cell_type": "code",
   "execution_count": 4,
   "id": "2387174d",
   "metadata": {},
   "outputs": [],
   "source": [
    "# This data is clean, if there were empty or NA values, we could replacements like these.\n",
    "#med_age = titanic[\"Age\"].median()\n",
    "#med_fare = titanic[\"Fare\"].median()\n",
    "#mode_sex = titanic[\"Sex\"].mode()\n",
    "#titanic[\"Age\"].fillna(med_age, inplace = True)\n",
    "#titanic[\"Fare\"].fillna(med_fare, inplace = True)\n",
    "#titanic[\"Sex\"].fillna(mode_sex, inplace = true)"
   ]
  },
  {
   "cell_type": "markdown",
   "id": "e6d5d87c",
   "metadata": {},
   "source": [
    "The above info tell us that the data (luckily) does not contain any NA or missing values for us to clean. If there were, we could use median/mode replacement, but since that is not necessary let's move on."
   ]
  },
  {
   "cell_type": "code",
   "execution_count": 5,
   "id": "44941c9c",
   "metadata": {},
   "outputs": [],
   "source": [
    "titanic.drop(columns = [\"Name\"], inplace = True)"
   ]
  },
  {
   "cell_type": "markdown",
   "id": "af15383e",
   "metadata": {},
   "source": [
    "In many real world applications, data integrity is paramount when doing data analysis. The step of removing the 'Name' feature works two fold here: we are able to practice data integrity and it will not be necessary for the models we are going to work on."
   ]
  },
  {
   "cell_type": "markdown",
   "id": "08d0620c",
   "metadata": {},
   "source": [
    "## Exploratory Data Analysis"
   ]
  },
  {
   "cell_type": "code",
   "execution_count": 6,
   "id": "99e87e3a",
   "metadata": {
    "scrolled": true
   },
   "outputs": [
    {
     "data": {
      "image/png": "[encoded data removed]",
      "text/plain": [
       "<Figure size 500x500 with 1 Axes>"
      ]
     },
     "metadata": {},
     "output_type": "display_data"
    },
    {
     "data": {
      "image/png": "[encoded data removed]",
      "text/plain": [
       "<Figure size 500x500 with 1 Axes>"
      ]
     },
     "metadata": {},
     "output_type": "display_data"
    }
   ],
   "source": [
    "sns.displot(titanic[\"Age\"], kde = True)\n",
    "sns.displot(titanic[\"Fare\"], kde = True)\n",
    "plt.show()"
   ]
  },
  {
   "cell_type": "markdown",
   "id": "02c0202f",
   "metadata": {},
   "source": [
    "Plotting the distributions of some variables can give helpful insight about normalizing data. As we can see here, fare and age are right skewed. We could make a choice to try to eliminate the skew with a transformation. This also gives us important validation information about the cleaning process (had we needed to do any). With a right skew like this, median replacement methods are a better choice than mean replacement."
   ]
  },
  {
   "cell_type": "code",
   "execution_count": 7,
   "id": "c8b3fc9e",
   "metadata": {},
   "outputs": [
    {
     "data": {
      "image/png": "[encoded data removed]",
      "text/plain": [
       "<Figure size 640x480 with 1 Axes>"
      ]
     },
     "metadata": {},
     "output_type": "display_data"
    }
   ],
   "source": [
    "sns.barplot(data = titanic, x = \"Pclass\", y = \"Fare\")\n",
    "plt.title(\"Fare ($) by Class\")\n",
    "plt.xlabel(\"Class\")\n",
    "plt.ylabel(\"Fare\")\n",
    "plt.show()"
   ]
  },
  {
   "cell_type": "code",
   "execution_count": 8,
   "id": "edd0f7d4",
   "metadata": {
    "scrolled": true
   },
   "outputs": [
    {
     "data": {
      "image/png": "[encoded data removed]",
      "text/plain": [
       "<Figure size 640x480 with 1 Axes>"
      ]
     },
     "metadata": {},
     "output_type": "display_data"
    }
   ],
   "source": [
    "sns.countplot(data = titanic, x = \"Sex\")\n",
    "sns.countplot(data = titanic, x = \"Pclass\")\n",
    "plt.show()"
   ]
  },
  {
   "cell_type": "code",
   "execution_count": 9,
   "id": "0ef181bd",
   "metadata": {
    "scrolled": true
   },
   "outputs": [
    {
     "data": {
      "image/png": "[encoded data removed]",
      "text/plain": [
       "<Figure size 640x480 with 1 Axes>"
      ]
     },
     "metadata": {},
     "output_type": "display_data"
    }
   ],
   "source": [
    "sns.boxplot(data = titanic, x = \"Pclass\", y = \"Age\")\n",
    "plt.xlabel(\"Class\")\n",
    "plt.ylabel(\"Age\")\n",
    "plt.show()"
   ]
  },
  {
   "cell_type": "markdown",
   "id": "6c2c1906",
   "metadata": {},
   "source": [
    "Histograms and boxplots are helpful to see the behavior and distribution of the data. We could also make a choice to do further cleaning on the data based on the results of the boxplots. For example, we see many values outside the top whiskers of the 3rd class boxplot. From this, one could decide to omit or replace these values. From historical knowlege of how many 3rd class residents there were paired with the histogram that backs that information, I am going to make the call that these points are not, in fact, outliers, and are a valid distribution of the ages of 3rd class members on the titanic."
   ]
  },
  {
   "cell_type": "code",
   "execution_count": 10,
   "id": "ef1e088e",
   "metadata": {},
   "outputs": [
    {
     "data": {
      "text/html": [
       "<div>\n",
       "<style scoped>\n",
       "    .dataframe tbody tr th:only-of-type {\n",
       "        vertical-align: middle;\n",
       "    }\n",
       "\n",
       "    .dataframe tbody tr th {\n",
       "        vertical-align: top;\n",
       "    }\n",
       "\n",
       "    .dataframe thead th {\n",
       "        text-align: right;\n",
       "    }\n",
       "</style>\n",
       "<table border=\"1\" class=\"dataframe\">\n",
       "  <thead>\n",
       "    <tr style=\"text-align: right;\">\n",
       "      <th></th>\n",
       "      <th>Survived</th>\n",
       "      <th>Pclass</th>\n",
       "      <th>Age</th>\n",
       "      <th>Siblings/Spouses Aboard</th>\n",
       "      <th>Parents/Children Aboard</th>\n",
       "      <th>Fare</th>\n",
       "      <th>sex_encoded</th>\n",
       "    </tr>\n",
       "  </thead>\n",
       "  <tbody>\n",
       "    <tr>\n",
       "      <th>0</th>\n",
       "      <td>0</td>\n",
       "      <td>3</td>\n",
       "      <td>22.0</td>\n",
       "      <td>1</td>\n",
       "      <td>0</td>\n",
       "      <td>7.2500</td>\n",
       "      <td>0</td>\n",
       "    </tr>\n",
       "    <tr>\n",
       "      <th>1</th>\n",
       "      <td>1</td>\n",
       "      <td>1</td>\n",
       "      <td>38.0</td>\n",
       "      <td>1</td>\n",
       "      <td>0</td>\n",
       "      <td>71.2833</td>\n",
       "      <td>1</td>\n",
       "    </tr>\n",
       "    <tr>\n",
       "      <th>2</th>\n",
       "      <td>1</td>\n",
       "      <td>3</td>\n",
       "      <td>26.0</td>\n",
       "      <td>0</td>\n",
       "      <td>0</td>\n",
       "      <td>7.9250</td>\n",
       "      <td>1</td>\n",
       "    </tr>\n",
       "    <tr>\n",
       "      <th>3</th>\n",
       "      <td>1</td>\n",
       "      <td>1</td>\n",
       "      <td>35.0</td>\n",
       "      <td>1</td>\n",
       "      <td>0</td>\n",
       "      <td>53.1000</td>\n",
       "      <td>1</td>\n",
       "    </tr>\n",
       "    <tr>\n",
       "      <th>4</th>\n",
       "      <td>0</td>\n",
       "      <td>3</td>\n",
       "      <td>35.0</td>\n",
       "      <td>0</td>\n",
       "      <td>0</td>\n",
       "      <td>8.0500</td>\n",
       "      <td>0</td>\n",
       "    </tr>\n",
       "  </tbody>\n",
       "</table>\n",
       "</div>"
      ],
      "text/plain": [
       "   Survived  Pclass   Age  Siblings/Spouses Aboard  Parents/Children Aboard  \\\n",
       "0         0       3  22.0                        1                        0   \n",
       "1         1       1  38.0                        1                        0   \n",
       "2         1       3  26.0                        0                        0   \n",
       "3         1       1  35.0                        1                        0   \n",
       "4         0       3  35.0                        0                        0   \n",
       "\n",
       "      Fare  sex_encoded  \n",
       "0   7.2500            0  \n",
       "1  71.2833            1  \n",
       "2   7.9250            1  \n",
       "3  53.1000            1  \n",
       "4   8.0500            0  "
      ]
     },
     "execution_count": 10,
     "metadata": {},
     "output_type": "execute_result"
    }
   ],
   "source": [
    "titanic['sex_encoded'] = titanic['Sex'].map({'male': 0, 'female': 1})\n",
    "df_encoded = titanic.drop(columns = [\"Sex\"])\n",
    "corr = df_encoded.corr()\n",
    "df_encoded.head()"
   ]
  },
  {
   "cell_type": "markdown",
   "id": "33120d9e",
   "metadata": {},
   "source": [
    "One last data cleaning method here. We are going to encode the 'Sex' variable into numerical data so our corrilation plots and further models can deal with that information."
   ]
  },
  {
   "cell_type": "code",
   "execution_count": 11,
   "id": "0eb8d7ee",
   "metadata": {
    "scrolled": true
   },
   "outputs": [
    {
     "data": {
      "image/png": "[encoded data removed]",
      "text/plain": [
       "<Figure size 1000x700 with 2 Axes>"
      ]
     },
     "metadata": {},
     "output_type": "display_data"
    }
   ],
   "source": [
    "plt.figure(figsize= (10,7))\n",
    "sns.heatmap(corr, annot = True)\n",
    "plt.show()"
   ]
  },
  {
   "cell_type": "markdown",
   "id": "a7992e9c",
   "metadata": {},
   "source": [
    "Making a corrilation heatmap is a very handy EDA method that can tell us off the bat if there are any relationships we need to investigate. It can also warn us if there will be issues with collinearity. We note some relationships between sex, class, fare, and survival. There are also logical relationships between variables, like fare and class. We could play with the impacts of removing fare or class from the data frame and see how it changes our models later."
   ]
  },
  {
   "cell_type": "code",
   "execution_count": 12,
   "id": "78483f30",
   "metadata": {},
   "outputs": [],
   "source": [
    "X, y = df_encoded.drop(columns = [\"Survived\"]), titanic[\"Survived\"]\n",
    "scale = StandardScaler()\n",
    "X_scaled = scale.fit_transform(X)"
   ]
  },
  {
   "cell_type": "markdown",
   "id": "4fbfce52",
   "metadata": {},
   "source": [
    "Split the data into features and labels and then standardize the features to make the model computation more efficient."
   ]
  },
  {
   "cell_type": "code",
   "execution_count": 13,
   "id": "32aff041",
   "metadata": {},
   "outputs": [],
   "source": [
    "X_test, X_train, y_test, y_train = train_test_split(X_scaled, y, test_size = 0.2, random_state = 19)"
   ]
  },
  {
   "cell_type": "markdown",
   "id": "89e08270",
   "metadata": {},
   "source": [
    "Even though when we create our models we are going to be using **GridSearchCV** which has a cross validation feature built in, it is still best practice to separate a section of data to test generalization of the models."
   ]
  },
  {
   "cell_type": "markdown",
   "id": "9ebb002e",
   "metadata": {},
   "source": [
    "## Creating Models"
   ]
  },
  {
   "cell_type": "code",
   "execution_count": 14,
   "id": "5982e05e",
   "metadata": {},
   "outputs": [],
   "source": [
    "logit_mod = LogisticRegression()\n",
    "xgb_mod = xgb_clf = XGBClassifier()\n",
    "knn_mod = KNeighborsClassifier()\n",
    "svm_mod = SVC()\n",
    "tree_mod = DecisionTreeClassifier()\n",
    "rf_mod = RandomForestClassifier()\n",
    "nb_mod = BernoulliNB()"
   ]
  },
  {
   "cell_type": "markdown",
   "id": "ab329788",
   "metadata": {},
   "source": [
    "The models we are going to comopare and evaluate are logistic regression, gradient boost classifier, K-nearest neighbors classifier, support vector machine, decision trees, and random forest ensamble. We are loading them in the cell above and not running thought the functions themselves because we are going to be calling each model within **GridSearchCV**.\n",
    "I should also note, for now we are going to be evalutating using accuracy as our scoring metric, but there will be futher investigation and discussion about why this might not be the way to build the most efficient model here."
   ]
  },
  {
   "cell_type": "code",
   "execution_count": 15,
   "id": "3ba5e386",
   "metadata": {},
   "outputs": [],
   "source": [
    "logit_param_grid = {'C': [0.1, 1, 10, 100], 'penalty': ['l2']}\n",
    "xgb_param_grid = {'n_estimators': [2, 5, 10, 50, 100], 'max_depth': [2, 3, 5,7], 'learning_rate': [0.1, 0.01, 0.001]}\n",
    "knn_param_grid = {'n_neighbors': [3, 5, 7, 9, 11], 'weights': ['uniform', 'distance'], \n",
    "                  'metric': ['euclidean', 'manhattan']}\n",
    "svm_param_grid = {'C': [0.1, 1, 10, 100],                  # Regularization strength\n",
    "    'kernel': ['linear', 'rbf', 'poly'],    # Kernel type\n",
    "    'gamma': ['scale', 'auto', 0.01, 0.001],# Kernel coefficient for 'rbf', 'poly', 'sigmoid'\n",
    "    'degree': [2, 3, 4]}\n",
    "tree_param_grid = {\n",
    "    'criterion': ['gini', 'entropy'],      # Function to measure the quality of a split\n",
    "    'max_depth': [None, 5, 10, 20],                    # Maximum depth of the tree\n",
    "    'min_samples_split': [2, 5, 10],                   # Minimum samples required to split a node\n",
    "    'min_samples_leaf': [1, 2, 4],                     # Minimum samples required at a leaf node\n",
    "    'max_features': [None, 'sqrt', 'log2'],            # Number of features to consider for best split\n",
    "    'ccp_alpha': [0.0, 0.01, 0.1]                      # Complexity parameter for Minimal Cost-Complexity Pruning\n",
    "}\n",
    "nb_param_grid = {\n",
    "    'alpha': [0.1, 0.5, 1.0],\n",
    "    'fit_prior': [True, False]}\n",
    "rf_param_grid = {\n",
    "    'n_estimators': [10,20,30],               # Number of trees in the forest\n",
    "    'max_depth': [10, 20],               # Max depth of each tree\n",
    "    'min_samples_split': [2, 5, 10],               # Minimum samples to split an internal node\n",
    "    'min_samples_leaf': [1, 2],                 # Minimum samples at a leaf node\n",
    "    'criterion': ['entropy']   # Function to measure split quality\n",
    "}"
   ]
  },
  {
   "cell_type": "markdown",
   "id": "ab3e861c",
   "metadata": {},
   "source": [
    "We specify a dictionary for each model so that the grid search can identify the best hyperparameters that maximize the accuracy."
   ]
  },
  {
   "cell_type": "code",
   "execution_count": 16,
   "id": "56ee80ad",
   "metadata": {},
   "outputs": [],
   "source": [
    "logit_grid = GridSearchCV(estimator= logit_mod, param_grid = logit_param_grid, scoring = 'accuracy', cv = 10)\n",
    "xgb_grid = GridSearchCV(estimator= xgb_mod, param_grid = xgb_param_grid, scoring = 'accuracy', cv = 10)\n",
    "knn_grid = GridSearchCV(estimator= knn_mod, param_grid = knn_param_grid, scoring = 'accuracy', cv = 10)\n",
    "svm_grid = GridSearchCV(estimator= svm_mod, param_grid = svm_param_grid, scoring = 'accuracy', cv = 10)\n",
    "tree_grid = GridSearchCV(estimator= tree_mod, param_grid = tree_param_grid, scoring = 'accuracy', cv = 10)\n",
    "nb_grid = GridSearchCV(estimator = nb_mod, param_grid = nb_param_grid, scoring = 'accuracy', cv = 10)\n",
    "rf_grid = GridSearchCV(estimator= rf_mod, param_grid = rf_param_grid, scoring = 'accuracy', cv = 5)"
   ]
  },
  {
   "cell_type": "markdown",
   "id": "b6a24901",
   "metadata": {},
   "source": [
    "Now we use the GridSearchCV tool to find the best hyperparameters for each model. If you look close, all other models use 10 fold cross validation, while the random forest was only 5. I did this purely due to the computing power of my personal machine. Though for production intent, computational cost is something to consider when construting models and code. Nevertheless, this could make the random forest model slightly less polished than the rest, but I believe that the effect will be negligible."
   ]
  },
  {
   "cell_type": "code",
   "execution_count": 17,
   "id": "a3bd693c",
   "metadata": {},
   "outputs": [],
   "source": [
    "import warnings\n",
    "warnings.filterwarnings('ignore', category=FutureWarning)\n",
    "\n",
    "logit_model = logit_grid.fit(X_train, y_train)\n",
    "xgb_model = xgb_grid.fit(X_train, y_train)\n",
    "knn_model = knn_grid.fit(X_train, y_train)\n",
    "svm_model = svm_grid.fit(X_train, y_train)\n",
    "tree_model = tree_grid.fit(X_train, y_train)\n",
    "nb_model = nb_grid.fit(X_train,y_train)\n",
    "rf_model = rf_grid.fit(X_train, y_train)"
   ]
  },
  {
   "cell_type": "markdown",
   "id": "2bc68856",
   "metadata": {},
   "source": [
    "Now for the fun part - fitting models to data. The warning at the beginning suppresses a future warning that a feature of a package in scikit learn is going to change, but this does not actually affect the model fit."
   ]
  },
  {
   "cell_type": "code",
   "execution_count": 18,
   "id": "ae75d297",
   "metadata": {
    "scrolled": true
   },
   "outputs": [
    {
     "name": "stdout",
     "output_type": "stream",
     "text": [
      "Logit Parameters: {'C': 10, 'penalty': 'l2'}\n",
      "LXGBoost Parameters: {'learning_rate': 0.1, 'max_depth': 2, 'n_estimators': 5}\n",
      "Knn Parameters: {'metric': 'euclidean', 'n_neighbors': 5, 'weights': 'uniform'}\n",
      "SVM Parameters: {'C': 1, 'degree': 2, 'gamma': 'scale', 'kernel': 'rbf'}\n",
      "Tree Parameters: {'ccp_alpha': 0.0, 'criterion': 'entropy', 'max_depth': 5, 'max_features': None, 'min_samples_leaf': 1, 'min_samples_split': 2}\n",
      "Naive Bayes Parameters: {'alpha': 1.0, 'fit_prior': True}\n",
      "Forest Parameters: {'criterion': 'entropy', 'max_depth': 20, 'min_samples_leaf': 1, 'min_samples_split': 2, 'n_estimators': 20}\n"
     ]
    }
   ],
   "source": [
    "print('Logit Parameters:', logit_model.best_params_)\n",
    "print('LXGBoost Parameters:', xgb_model.best_params_)\n",
    "print('Knn Parameters:', knn_model.best_params_)\n",
    "print('SVM Parameters:', svm_model.best_params_)\n",
    "print('Tree Parameters:', tree_model.best_params_)\n",
    "print('Naive Bayes Parameters:', nb_model.best_params_)\n",
    "print('Forest Parameters:', rf_model.best_params_)"
   ]
  },
  {
   "cell_type": "markdown",
   "id": "118c8b0d",
   "metadata": {},
   "source": [
    "Above are the best parameters that were found for each respective model."
   ]
  },
  {
   "cell_type": "code",
   "execution_count": 19,
   "id": "da571539",
   "metadata": {
    "scrolled": true
   },
   "outputs": [
    {
     "name": "stdout",
     "output_type": "stream",
     "text": [
      "Logit score: 0.787\n",
      "LXGBoost score: 0.826\n",
      "Knn score: 0.787\n",
      "SVM score: 0.821\n",
      "Tree score: 0.843\n",
      "Naive Bayes score: 0.797\n",
      "Forest score: 0.832\n"
     ]
    }
   ],
   "source": [
    "print('Logit score:', logit_model.best_score_.round(3))\n",
    "print('LXGBoost score:', xgb_model.best_score_.round(3))\n",
    "print('Knn score:', knn_model.best_score_.round(3))\n",
    "print('SVM score:', svm_model.best_score_.round(3))\n",
    "print('Tree score:', tree_model.best_score_.round(3))\n",
    "print('Naive Bayes score:', nb_model.best_score_.round(3))\n",
    "print('Forest score:', rf_model.best_score_.round(3))"
   ]
  },
  {
   "cell_type": "code",
   "execution_count": 20,
   "id": "0b1e7dbe",
   "metadata": {},
   "outputs": [
    {
     "name": "stdout",
     "output_type": "stream",
     "text": [
      "Logit test score: 0.787\n",
      "XGBoost test score: 0.776\n",
      "Knn test score: 0.763\n",
      "SVM test score: 0.772\n",
      "Tree test score: 0.78\n",
      "Naive Bayes test score: 0.738\n",
      "Random Forest test score: 0.763\n"
     ]
    }
   ],
   "source": [
    "logit_y_pred = logit_model.best_estimator_.predict(X_test)\n",
    "xgb_y_pred = xgb_model.best_estimator_.predict(X_test)\n",
    "knn_y_pred = knn_model.best_estimator_.predict(X_test)\n",
    "svm_y_pred = svm_model.best_estimator_.predict(X_test)\n",
    "tree_y_pred = tree_model.best_estimator_.predict(X_test)\n",
    "nb_y_pred = nb_model.best_estimator_.predict(X_test)\n",
    "rf_y_pred = rf_model.best_estimator_.predict(X_test)\n",
    "\n",
    "\n",
    "print('Logit test score:', accuracy_score(logit_y_pred,y_test).round(3))\n",
    "print('XGBoost test score:', accuracy_score(xgb_y_pred,y_test).round(3))\n",
    "print('Knn test score:', accuracy_score(knn_y_pred,y_test).round(3))\n",
    "print('SVM test score:', accuracy_score(svm_y_pred,y_test).round(3))\n",
    "print('Tree test score:', accuracy_score(tree_y_pred,y_test).round(3))\n",
    "print('Naive Bayes test score:', accuracy_score(nb_y_pred,y_test).round(3))\n",
    "print('Random Forest test score:', accuracy_score(rf_y_pred,y_test).round(3))"
   ]
  },
  {
   "cell_type": "markdown",
   "id": "fc2ff4f2",
   "metadata": {},
   "source": [
    "## Initial discussion\n",
    "\n",
    "From the results above, we are fully capable to select a model with best hyperparameters based on accuracy scores. We would say that based on training accuracy, the decision tree or the random forest performs the best. However, when we look at the test scores, all of the models perform relatively similarly with the random forest and the logistic regression having the highest test scores. This could be an indication that the decision tree is slightly overfit and does not generalize as well as the other models.\n",
    "\n",
    "Before we make a final decision on the random forest, there are some things we should consider. FOr example, one of the assumptions of Naive Bayes is that the predictors are conditinally independent. We know from our correlation plot that some of these features are related (like fare and class for example). This could be having a negative effect on the accuracy of the Bayesian model. Treating each model as a plug and play is likely not the best practice, if the intent was to focus on a specific model type, we should properly prepare the data considering its weaknesses and strengths.\n",
    "\n",
    "Another thing that could be causing model accuracy to be this low is the class imbalance in the data set. Though it is not extreme, the survivorship rate was about 38%, which does make it a minority class. Because of this, it might be better to evaluate the models by a different metric like the F1 score. This will yield better recall results because the F1 metric takes recall into consideration.\n"
   ]
  },
  {
   "cell_type": "code",
   "execution_count": 21,
   "id": "21829c66",
   "metadata": {},
   "outputs": [],
   "source": [
    "# ROC calculations\n",
    "logit_y_prob = logit_model.predict_proba(X_test)[:,1]\n",
    "logit_fpr, logit_tpr, _ = roc_curve(y_test, logit_y_prob)\n",
    "logit_roc_auc = auc(logit_fpr, logit_tpr)\n",
    "\n",
    "xgb_y_prob = xgb_model.predict_proba(X_test)[:,1]\n",
    "xgb_fpr, xgb_tpr, _ = roc_curve(y_test, xgb_y_prob)\n",
    "xgb_roc_auc = auc(xgb_fpr, xgb_tpr)\n",
    "\n",
    "knn_y_prob = knn_model.predict_proba(X_test)[:,1]\n",
    "knn_fpr, knn_tpr, _ = roc_curve(y_test, knn_y_prob)\n",
    "knn_roc_auc = auc(knn_fpr, knn_tpr)\n",
    "\n",
    "#svm_y_prob = svm_model.predict_proba(X_test)[:,1]\n",
    "#svm_fpr, svm_tpr, _ = roc_curve(y_test, svm_y_prob)\n",
    "#svm_roc_auc = auc(svm_fpr, svm_tpr)\n",
    "\n",
    "tree_y_prob = tree_model.predict_proba(X_test)[:,1]\n",
    "tree_fpr, tree_tpr, _ = roc_curve(y_test, tree_y_prob)\n",
    "tree_roc_auc = auc(tree_fpr, tree_tpr)\n",
    "\n",
    "nb_y_prob = nb_model.predict_proba(X_test)[:,1]\n",
    "nb_fpr, nb_tpr, _ = roc_curve(y_test, nb_y_prob)\n",
    "nb_roc_auc = auc(nb_fpr, nb_tpr)\n",
    "\n",
    "rf_y_prob = rf_model.predict_proba(X_test)[:,1]\n",
    "rf_fpr, rf_tpr, _ = roc_curve(y_test, rf_y_prob)\n",
    "rf_roc_auc = auc(rf_fpr, rf_tpr)"
   ]
  },
  {
   "cell_type": "code",
   "execution_count": 22,
   "id": "21f19730",
   "metadata": {
    "scrolled": true
   },
   "outputs": [
    {
     "name": "stdout",
     "output_type": "stream",
     "text": [
      "Logit F1 score: 0.716\n",
      "XGBoost F1 score: 0.615\n",
      "Knn F1 score: 0.674\n",
      "SVM F1 score: 0.637\n",
      "Tree F1 score: 0.653\n",
      "Naive F1 test score: 0.635\n",
      "Random Forest F1 score: 0.66\n"
     ]
    }
   ],
   "source": [
    "print('Logit F1 score:', f1_score(logit_y_pred,y_test).round(3))\n",
    "print('XGBoost F1 score:', f1_score(xgb_y_pred,y_test).round(3))\n",
    "print('Knn F1 score:', f1_score(knn_y_pred,y_test).round(3))\n",
    "print('SVM F1 score:', f1_score(svm_y_pred,y_test).round(3))\n",
    "print('Tree F1 score:', f1_score(tree_y_pred,y_test).round(3))\n",
    "print('Naive F1 test score:', f1_score(nb_y_pred,y_test).round(3))\n",
    "print('Random Forest F1 score:', f1_score(rf_y_pred,y_test).round(3))"
   ]
  },
  {
   "cell_type": "code",
   "execution_count": 23,
   "id": "822890b7",
   "metadata": {},
   "outputs": [
    {
     "name": "stdout",
     "output_type": "stream",
     "text": [
      "Logit ROC AUC: 0.843\n",
      "XGBoost ROC AUC: 0.823\n",
      "Knn ROC AUC: 0.814\n",
      "Tree ROC AUC: 0.728\n",
      "Naive Bayes ROC AUC: 0.807\n",
      "Random Forest ROC AUC: 0.775\n"
     ]
    }
   ],
   "source": [
    "print('Logit ROC AUC:', logit_roc_auc.round(3))\n",
    "print('XGBoost ROC AUC:', xgb_roc_auc.round(3))\n",
    "print('Knn ROC AUC:', knn_roc_auc.round(3))\n",
    "#print('SVM ROC AUC:', svm_roc_auc.round(3))\n",
    "print('Tree ROC AUC:', tree_roc_auc.round(3))\n",
    "print('Naive Bayes ROC AUC:', nb_roc_auc.round(3))\n",
    "print('Random Forest ROC AUC:', rf_roc_auc.round(3))"
   ]
  },
  {
   "cell_type": "markdown",
   "id": "45d5d301",
   "metadata": {},
   "source": [
    "Based on the *F1 score* and the area under the *Receiver Operator Characteristic* curve (ROC AUC) we see a slightly different picture. This time with the logistic regression being the definitive victor. Although to be properly thorough we should really go through and recompute the best hyperparameters using the F1 score as the maximizing criteria and possibly adjust the dataset for the Baysian assumptions to hold up.\n",
    "Instead, lets move on to a different method: directly addressing the class imbalance with oversampling method. "
   ]
  },
  {
   "cell_type": "code",
   "execution_count": 47,
   "id": "931f7b2f",
   "metadata": {},
   "outputs": [
    {
     "name": "stdout",
     "output_type": "stream",
     "text": [
      "Class distribution before SMOTE: Counter({0: 115, 1: 63})\n",
      "Class distribution after SMOTE: Counter({1: 100, 0: 100})\n"
     ]
    }
   ],
   "source": [
    "from collections import Counter\n",
    "from imblearn.combine import SMOTETomek\n",
    "\n",
    "print(\"Class distribution before SMOTE:\", Counter(y_train))\n",
    "\n",
    " \n",
    "#Apply SMOTENC to oversample the minority class\n",
    "smote_nc = SMOTETomek(sampling_strategy = 'auto')\n",
    "X_train_resampled, y_train_resampled = smote_nc.fit_resample(X_train, y_train)\n",
    " \n",
    "# Display class distribution after SMOTE\n",
    "print(\"Class distribution after SMOTE:\", Counter(y_train_resampled))"
   ]
  },
  {
   "cell_type": "code",
   "execution_count": 48,
   "id": "21a6804f",
   "metadata": {},
   "outputs": [],
   "source": [
    "import warnings\n",
    "warnings.filterwarnings('ignore', category=FutureWarning)\n",
    "\n",
    "logit_model2 = logit_grid.fit(X_train_resampled,y_train_resampled)\n",
    "xgb_model2 = xgb_grid.fit(X_train_resampled, y_train_resampled)\n",
    "knn_model2 = knn_grid.fit(X_train_resampled, y_train_resampled)\n",
    "svm_model2 = svm_grid.fit(X_train_resampled, y_train_resampled)\n",
    "tree_model2 = tree_grid.fit(X_train_resampled, y_train_resampled)\n",
    "nb_model2 = nb_grid.fit(X_train_resampled, y_train_resampled)\n",
    "rf_model2 = rf_grid.fit(X_train_resampled, y_train_resampled)"
   ]
  },
  {
   "cell_type": "code",
   "execution_count": 49,
   "id": "48f40629",
   "metadata": {},
   "outputs": [
    {
     "name": "stdout",
     "output_type": "stream",
     "text": [
      "Logit score: 0.82\n",
      "LXGBoost score: 0.87\n",
      "Knn score: 0.9\n",
      "SVM score: 0.865\n",
      "Tree score: 0.905\n",
      "Naive Bayes score: 0.755\n",
      "Random Forest score: 0.885\n"
     ]
    }
   ],
   "source": [
    "print('Logit score:', logit_model2.best_score_.round(3))\n",
    "print('LXGBoost score:', xgb_model2.best_score_.round(3))\n",
    "print('Knn score:', knn_model2.best_score_.round(3))\n",
    "print('SVM score:', svm_model2.best_score_.round(3))\n",
    "print('Tree score:', tree_model2.best_score_.round(3))\n",
    "print('Naive Bayes score:', nb_model2.best_score_.round(3))\n",
    "print('Random Forest score:', rf_model2.best_score_.round(3))"
   ]
  },
  {
   "cell_type": "code",
   "execution_count": 51,
   "id": "6c308b0a",
   "metadata": {},
   "outputs": [
    {
     "name": "stdout",
     "output_type": "stream",
     "text": [
      "Original Logit test score: 0.787\n",
      "Original XGBoost test score: 0.776\n",
      "Original Knn test score: 0.763\n",
      "Original SVM test score: 0.772\n",
      "Original Tree test score: 0.78\n",
      "Original Naive Bayes test score: 0.738\n",
      "Original Random Forest test score: 0.763\n",
      "\n",
      "\n",
      "Logit balanced test score: 0.78\n",
      "XGBoost balanced test score: 0.767\n",
      "Knn balanced test score: 0.763\n",
      "SVM balanced test score: 0.738\n",
      "Tree balanced test score: 0.711\n",
      "Naive Bayes balanced test score: 0.721\n",
      "Random Forest balanced test score: 0.774\n"
     ]
    }
   ],
   "source": [
    "logit_y_pred2 = logit_model2.best_estimator_.predict(X_test)\n",
    "xgb_y_pred2 = xgb_model2.best_estimator_.predict(X_test)\n",
    "knn_y_pred2 = knn_model2.best_estimator_.predict(X_test)\n",
    "svm_y_pred2 = svm_model2.best_estimator_.predict(X_test)\n",
    "tree_y_pred2 = tree_model2.best_estimator_.predict(X_test)\n",
    "nb_y_pred2 = nb_model2.best_estimator_.predict(X_test)\n",
    "rf_y_pred2 = rf_model2.best_estimator_.predict(X_test)\n",
    "\n",
    "\n",
    "print('Original Logit test score:', accuracy_score(logit_y_pred,y_test).round(3))\n",
    "print('Original XGBoost test score:', accuracy_score(xgb_y_pred,y_test).round(3))\n",
    "print('Original Knn test score:', accuracy_score(knn_y_pred,y_test).round(3))\n",
    "print('Original SVM test score:', accuracy_score(svm_y_pred,y_test).round(3))\n",
    "print('Original Tree test score:', accuracy_score(tree_y_pred,y_test).round(3))\n",
    "print('Original Naive Bayes test score:', accuracy_score(nb_y_pred,y_test).round(3))\n",
    "print('Original Random Forest test score:', accuracy_score(rf_y_pred,y_test).round(3))\n",
    "print(\"\\n\")\n",
    "print('Logit balanced test score:', accuracy_score(logit_y_pred2, y_test).round(3))\n",
    "print('XGBoost balanced test score:', accuracy_score(xgb_y_pred2, y_test).round(3))\n",
    "print('Knn balanced test score:', accuracy_score(knn_y_pred2, y_test).round(3))\n",
    "print('SVM balanced test score:', accuracy_score(svm_y_pred2, y_test).round(3))\n",
    "print('Tree balanced test score:', accuracy_score(tree_y_pred2, y_test).round(3))\n",
    "print('Naive Bayes balanced test score:', accuracy_score(nb_y_pred2, y_test).round(3))\n",
    "print('Random Forest balanced test score:', accuracy_score(rf_y_pred2, y_test).round(3))"
   ]
  },
  {
   "cell_type": "markdown",
   "id": "81c12987",
   "metadata": {},
   "source": [
    "Here we see something pretty interesting. The test scores of the models that were trained on synthetically balanced datasets actually performed worse than the original. This could be a point where we decide to pivot and work on feature selection to improve model performace. We would do so by performing forwards/backwards selection with t-tests, using a information gain, or chi squared test. Given that our balancing methods did not improve the model, we are going to move on. The exception to the model changes being the logistic regression which performed nearly the same. This could be an indication that the logistic regression is the most robust model for this application. \n",
    "\n",
    "So, now we are going to take a peak under the hood and see what features have the greated impact on the model. This is an application that many companies will need to utilize in addition to having functioning models. This kind of information can be very help to drive buisness decisions."
   ]
  },
  {
   "cell_type": "code",
   "execution_count": 55,
   "id": "7d35f7fb",
   "metadata": {},
   "outputs": [],
   "source": [
    "best_model = logit_model.best_estimator_"
   ]
  },
  {
   "cell_type": "code",
   "execution_count": 65,
   "id": "983e097c",
   "metadata": {},
   "outputs": [
    {
     "name": "stdout",
     "output_type": "stream",
     "text": [
      "                   Feature  Coefficient  Odds Ratio  Probability\n",
      "5              sex_encoded     1.182305    3.261883     0.765362\n",
      "3  Parents/Children Aboard    -0.172105    0.841891     0.457080\n",
      "2  Siblings/Spouses Aboard    -0.222290    0.800683     0.444655\n",
      "4                     Fare    -0.316788    0.728485     0.421459\n",
      "1                      Age    -0.497262    0.608194     0.378184\n",
      "0                   Pclass    -1.266705    0.281758     0.219822\n"
     ]
    }
   ],
   "source": [
    "coefficients = best_model.coef_[0]  \n",
    "feature_names = X.columns \n",
    "odds_ratio = np.exp(coefficients)\n",
    "prob = odds_ratio/(1 + odds_ratio)\n",
    "\n",
    "coef_df = pd.DataFrame({ # Creating a data frame that has the coeffs, odds, and probabilites accociated with each feature\n",
    "    'Feature': feature_names,\n",
    "    'Coefficient': coefficients,\n",
    "    'Odds Ratio': odds_ratio,\n",
    "    'Probability': prob\n",
    "})\n",
    "print(coef_df.sort_values(by='Odds Ratio', key=abs, ascending=False))"
   ]
  },
  {
   "cell_type": "markdown",
   "id": "6f5c2547",
   "metadata": {},
   "source": [
    "## Final Discussion and Results\n",
    "\n",
    "We have explored many models and options here. We started off looking and some EDA to find relationships and interesting patterns to investigate. Inicially, it looked like sex had the greatest impact on survival based on the correlation plot. We then built up seven models tuning their hyper parameters using a gridsearch. While this was slighlty computationally expensive, it allowed us to explore the best options for each model and compare their respective best accuracy scores. At this point we determined that the best model was either between the random forest or the logistic regression. \n",
    "\n",
    "However, due to the linger issue of slight class imbalance, it was determined that the accuracy score might not be the best metric to evaluate the models. This continued into an investigation of F1 scores and ROC AUC comparision. We then saw that the logistic regression was a more favorable model.\n",
    "\n",
    "Another way that we tried to tune the model was by using syntetic minority over-sampling technique for nominal and continuous values (SMOTE-NC) to try and address the class imbalance. This yeilded actually *worse* models than previously, with the exception of the logistic regression deviating only slightly. From this, I decided that the logistic regression was most likely the most robust model. \n",
    "\n",
    "Then, a datafrome was created to show feature importance. It was found that sex had the biggest impact: survival odds of women were roughly 3.26 (probability of 0.77). The next important features were, having children, siblings, or spouses aboard. There could be some circularity going on here in the way that siblings/spouses aboard could be feeding more information about sex and parents/children aboard could be feeding more information about age. \n",
    "\n"
   ]
  },
  {
   "cell_type": "code",
   "execution_count": null,
   "id": "c8fbb6e0",
   "metadata": {},
   "outputs": [],
   "source": []
  }
 ],
 "metadata": {
  "kernelspec": {
   "display_name": "Python 3 (ipykernel)",
   "language": "python",
   "name": "python3"
  },
  "language_info": {
   "codemirror_mode": {
    "name": "ipython",
    "version": 3
   },
   "file_extension": ".py",
   "mimetype": "text/x-python",
   "name": "python",
   "nbconvert_exporter": "python",
   "pygments_lexer": "ipython3",
   "version": "3.9.13"
  }
 },
 "nbformat": 4,
 "nbformat_minor": 5
}
